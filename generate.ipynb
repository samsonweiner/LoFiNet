{
 "cells": [
  {
   "cell_type": "code",
   "execution_count": 14,
   "metadata": {},
   "outputs": [],
   "source": [
    "import numpy as np\n",
    "import pickle as pkl\n",
    "\n",
    "from music21 import converter, instrument, note, chord, stream, duration, midi\n",
    "\n",
    "from torch.utils.data import DataLoader, random_split\n",
    "import torch\n",
    "import torch.nn as nn\n",
    "import torch.optim as optim\n",
    "import torch.nn.functional as F\n",
    "\n",
    "from utils import PianoDataset\n",
    "from model import LSTMModel"
   ]
  },
  {
   "cell_type": "code",
   "execution_count": 4,
   "metadata": {},
   "outputs": [],
   "source": [
    "with open('processed_data.pkl', 'rb') as f:\n",
    "    (normalized_sequences, encoded_labels, vocab, d_min, d_max) = pkl.load(f)"
   ]
  },
  {
   "cell_type": "code",
   "execution_count": 6,
   "metadata": {},
   "outputs": [
    {
     "name": "stderr",
     "output_type": "stream",
     "text": [
      "/var/folders/wj/73z_0m096b1bvrnv72hczr4h0000gn/T/ipykernel_7567/3013623758.py:7: FutureWarning: You are using `torch.load` with `weights_only=False` (the current default value), which uses the default pickle module implicitly. It is possible to construct malicious pickle data which will execute arbitrary code during unpickling (See https://github.com/pytorch/pytorch/blob/main/SECURITY.md#untrusted-models for more details). In a future release, the default value for `weights_only` will be flipped to `True`. This limits the functions that could be executed during unpickling. Arbitrary objects will no longer be allowed to be loaded via this mode unless they are explicitly allowlisted by the user via `torch.serialization.add_safe_globals`. We recommend you start setting `weights_only=True` for any use case where you don't have full control of the loaded file. Please open an issue on GitHub for any issues related to this experimental feature.\n",
      "  model.load_state_dict(torch.load(\"model_parameters.pth\", map_location=torch.device('cpu')))\n"
     ]
    },
    {
     "data": {
      "text/plain": [
       "<All keys matched successfully>"
      ]
     },
     "execution_count": 6,
     "metadata": {},
     "output_type": "execute_result"
    }
   ],
   "source": [
    "# Model parameters\n",
    "vocab_size = len(vocab)\n",
    "embedding_dim = 64\n",
    "hidden_dim = 256\n",
    "hidden_dim2 = 128\n",
    "model = LSTMModel(vocab_size, embedding_dim, hidden_dim, hidden_dim2)\n",
    "model.load_state_dict(torch.load(\"model_parameters.pth\", map_location=torch.device('cpu')))"
   ]
  },
  {
   "cell_type": "code",
   "execution_count": 7,
   "metadata": {},
   "outputs": [
    {
     "name": "stdout",
     "output_type": "stream",
     "text": [
      "214990\n",
      "[(1221, 0.00206079340546116), (709, 0.0005151983513652744), (0, 0.0030911901081916524), (1743, 0.002060793405461101), (958, 0.0005151983513653328), (10, 0.006697578567748641), (51, 0.00206079340546116), (0, 0.0030911901081916524), (687, 0.0025759917568264354), (0, 0.0030911901081916524), (527, 0.003091190108191594), (291, 0.0036063884595569284), (148, 0.0051519835136526965), (106, 0.011334363730036061), (1, 0.0036063884595569275), (23, 0.0036063884595569275), (106, 0.00206079340546116), (8, 0.0036063884595569284), (260, 0.003091190108191594), (20, 0.0036063884595569284), (8, 0.003091190108191594), (133, 0.0020607934054611013), (133, 0.0061823802163833656), (0, 0.0030911901081916524), (236, 0.00206079340546116), (5, 0.0036063884595569865), (14, 0.0025759917568264354), (4, 0.0005151983513652744), (30, 0.00206079340546116), (297, 0.01030396702730557), (4, 0.0051519835136526965), (27, 0.0036063884595569284)]\n"
     ]
    }
   ],
   "source": [
    "#584136\n",
    "idx = np.random.randint(len(normalized_sequences))\n",
    "start_seq = normalized_sequences[idx]\n",
    "print(idx)\n",
    "print(start_seq)"
   ]
  },
  {
   "cell_type": "code",
   "execution_count": 11,
   "metadata": {},
   "outputs": [],
   "source": [
    "def generate_notes(model, start_seq, num_notes):\n",
    "    x_notes = torch.tensor([[pair[0] for pair in start_seq]], dtype=torch.long)  # Note indices\n",
    "    x_durations = torch.tensor([[pair[1] for pair in start_seq]], dtype=torch.float)\n",
    "\n",
    "    #gen_seq = [x for x in start_seq]\n",
    "    gen_seq = []\n",
    "\n",
    "    model.eval()\n",
    "    for _ in range(num_notes):\n",
    "        # Predicts the next note\n",
    "        note_pred, duration_pred = model(x_notes, x_durations)\n",
    "\n",
    "        probs = note_pred[0].detach().numpy()\n",
    "        sorted_idxs = list(range(len(probs)))\n",
    "        sorted_idxs.sort(key = lambda x: probs[x], reverse=True)\n",
    "        new_note = np.random.choice(sorted_idxs[:3])\n",
    "        #new_note = torch.argmax(note_pred, dim=1)\n",
    "        new_dur = duration_pred.squeeze()\n",
    "\n",
    "        gen_seq.append((new_note, float(new_dur)))\n",
    "\n",
    "        x_notes = torch.cat((torch.tensor([x_notes[0].detach().numpy()[1:]], dtype=torch.long), torch.tensor([[new_note]], dtype=torch.long)), 1)\n",
    "        x_durations = torch.cat((torch.tensor([x_durations[0].detach().numpy()[1:]], dtype=torch.float), torch.tensor([[new_dur]], dtype=torch.float)), 1)\n",
    "\n",
    "    return gen_seq"
   ]
  },
  {
   "cell_type": "code",
   "execution_count": 16,
   "metadata": {},
   "outputs": [],
   "source": [
    "def denormalize_duration(d_normalized, d_min, d_max):\n",
    "    return d_normalized * (d_max - d_min) + d_min\n",
    "inv_vocab = {v: i for i,v in vocab.items()}"
   ]
  },
  {
   "cell_type": "code",
   "execution_count": 18,
   "metadata": {},
   "outputs": [],
   "source": [
    "# creates a new midi file from a flat sequence\n",
    "def create_midi(sequence, out_path):\n",
    "    notes = []\n",
    "\n",
    "    prev_note = None\n",
    "    rest_start = 0\n",
    "    rest_duration = 0\n",
    "    for i, (midi_code,dur) in enumerate(sequence):\n",
    "        offset = i / 2\n",
    "        if midi_code == 'REST':\n",
    "            if prev_note == 'REST':\n",
    "                rest_duration += dur\n",
    "            else:\n",
    "                prev_note = 'REST'\n",
    "                rest_start = offset\n",
    "                rest_duration = 0.5\n",
    "        else:\n",
    "            if prev_note == 'REST':\n",
    "                new_note = note.Rest(rest_duration)\n",
    "                new_note.offset = rest_start\n",
    "                notes.append(new_note)\n",
    "            \n",
    "            if '.' in midi_code:\n",
    "                components = []\n",
    "                for comp in midi_code.split('.'):\n",
    "                    cur_note = note.Note(int(comp))\n",
    "                    cur_note.storedInstrument = instrument.Piano()\n",
    "                    components.append(cur_note)\n",
    "                new_chord = chord.Chord(components)\n",
    "                new_chord.offset = offset\n",
    "                new_chord.duration = duration.Duration(dur)\n",
    "                notes.append(new_chord)\n",
    "                prev_note = 'CHORD'\n",
    "            # pattern is a note\n",
    "            else:\n",
    "                new_note = note.Note(int(midi_code))\n",
    "                new_note.offset = offset\n",
    "                new_note.storedInstrument = instrument.Piano()\n",
    "                new_note.duration = duration.Duration(dur)\n",
    "                notes.append(new_note)\n",
    "                prev_note = 'NOTE'\n",
    "    \n",
    "    midi_stream = stream.Stream(notes)\n",
    "    midi_stream.write('midi', fp=out_path)"
   ]
  },
  {
   "cell_type": "code",
   "execution_count": 12,
   "metadata": {},
   "outputs": [],
   "source": [
    "gen_seq = generate_notes(model, start_seq, 500)\n",
    "unemb_seq = [(inv_vocab[x], denormalize_duration(y, d_min, d_max)) for x,y in gen_seq]\n",
    "create_midi(unemb_seq, 'test.midi')"
   ]
  }
 ],
 "metadata": {
  "kernelspec": {
   "display_name": "LoFi",
   "language": "python",
   "name": "python3"
  },
  "language_info": {
   "codemirror_mode": {
    "name": "ipython",
    "version": 3
   },
   "file_extension": ".py",
   "mimetype": "text/x-python",
   "name": "python",
   "nbconvert_exporter": "python",
   "pygments_lexer": "ipython3",
   "version": "3.12.7"
  }
 },
 "nbformat": 4,
 "nbformat_minor": 2
}
